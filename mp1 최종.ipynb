{
 "cells": [
  {
   "cell_type": "code",
   "execution_count": 1,
   "id": "b45d25c4",
   "metadata": {},
   "outputs": [],
   "source": [
    "import pandas as pd\n",
    "import glob\n",
    "\n",
    "# 1. 파일 경로 설정\n",
    "path = './real_estate_data/'  # 연도별 CSV 파일 경로\n",
    "files = glob.glob(path + '*.csv')\n",
    "\n",
    "# 2. 결과 리스트 초기화\n",
    "df_list = []\n",
    "\n",
    "# 3. 파일 반복 처리\n",
    "for file in files:\n",
    "    try:\n",
    "        # 파일 불러오기\n",
    "        df = pd.read_csv(file, encoding='cp949', skiprows=15)\n",
    "\n",
    "        # 주요 컬럼만 선택\n",
    "        df_cleaned = df[['시군구', '전용면적(㎡)', '거래금액(만원)', '계약년월']].copy()\n",
    "\n",
    "        # 거래금액 쉼표 제거 후 정수형 변환\n",
    "        df_cleaned['거래금액(만원)'] = df_cleaned['거래금액(만원)'].str.replace(\",\", \"\").astype(int)\n",
    "\n",
    "        # 연, 월 분리\n",
    "        df_cleaned['년'] = df_cleaned['계약년월'].astype(str).str[:4].astype(int)\n",
    "        df_cleaned['월'] = df_cleaned['계약년월'].astype(str).str[4:].astype(int)\n",
    "\n",
    "        # 읍면동 추출 (예: \"제주시 연동\" → \"연동\")\n",
    "        df_cleaned['읍면동'] = df_cleaned['시군구']\n",
    "\n",
    "        # 평당가격 계산\n",
    "        df_cleaned['평당가격'] = df_cleaned['거래금액(만원)'] / (df_cleaned['전용면적(㎡)'] / 3.3)\n",
    "\n",
    "        df_list.append(df_cleaned)\n",
    "\n",
    "    except Exception as e:\n",
    "        print(f\"⚠️ {file} 처리 중 오류 발생:\", e)\n",
    "\n",
    "# 4. 병합\n",
    "df_total = pd.concat(df_list, ignore_index=True)\n",
    "\n",
    "# 5. 저장\n",
    "df_total.to_csv(\"jeju_real_estate.csv\", index=False, encoding='utf-8-sig')\n"
   ]
  }
 ],
 "metadata": {
  "kernelspec": {
   "display_name": "Python 3",
   "language": "python",
   "name": "python3"
  },
  "language_info": {
   "codemirror_mode": {
    "name": "ipython",
    "version": 3
   },
   "file_extension": ".py",
   "mimetype": "text/x-python",
   "name": "python",
   "nbconvert_exporter": "python",
   "pygments_lexer": "ipython3",
   "version": "3.12.6"
  }
 },
 "nbformat": 4,
 "nbformat_minor": 5
}
